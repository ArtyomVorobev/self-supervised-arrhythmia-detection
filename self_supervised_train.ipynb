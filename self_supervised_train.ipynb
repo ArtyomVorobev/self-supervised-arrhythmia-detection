{
  "cells": [
    {
      "cell_type": "markdown",
      "source": [
        "# install dependencies"
      ],
      "metadata": {
        "id": "ZZk9zWhgbRwr"
      },
      "id": "ZZk9zWhgbRwr"
    },
    {
      "cell_type": "code",
      "source": [
        "!pip install -U torch==1.12.1"
      ],
      "metadata": {
        "colab": {
          "base_uri": "https://localhost:8080/"
        },
        "id": "KjIWkOghlIb2",
        "outputId": "eb8e1bb4-787b-4792-f564-a63b11d4dbde"
      },
      "id": "KjIWkOghlIb2",
      "execution_count": null,
      "outputs": [
        {
          "output_type": "stream",
          "name": "stdout",
          "text": [
            "Requirement already satisfied: torch==1.12.1 in /usr/local/lib/python3.10/dist-packages (1.12.1)\n",
            "Requirement already satisfied: typing-extensions in /usr/local/lib/python3.10/dist-packages (from torch==1.12.1) (4.11.0)\n"
          ]
        }
      ]
    },
    {
      "cell_type": "code",
      "source": [
        "!pip install -U torchtext==0.13.1"
      ],
      "metadata": {
        "colab": {
          "base_uri": "https://localhost:8080/",
          "height": 581
        },
        "id": "bgYa0tzUcTE9",
        "outputId": "c6ce3694-af42-4bd2-b2bd-961b49230064"
      },
      "id": "bgYa0tzUcTE9",
      "execution_count": null,
      "outputs": [
        {
          "output_type": "stream",
          "name": "stdout",
          "text": [
            "Collecting torchtext==0.13.1\n",
            "  Downloading torchtext-0.13.1-cp310-cp310-manylinux1_x86_64.whl (1.9 MB)\n",
            "\u001b[2K     \u001b[90m━━━━━━━━━━━━━━━━━━━━━━━━━━━━━━━━━━━━━━━━\u001b[0m \u001b[32m1.9/1.9 MB\u001b[0m \u001b[31m8.7 MB/s\u001b[0m eta \u001b[36m0:00:00\u001b[0m\n",
            "\u001b[?25hRequirement already satisfied: tqdm in /usr/local/lib/python3.10/dist-packages (from torchtext==0.13.1) (4.66.2)\n",
            "Requirement already satisfied: requests in /usr/local/lib/python3.10/dist-packages (from torchtext==0.13.1) (2.31.0)\n",
            "Collecting torch==1.12.1 (from torchtext==0.13.1)\n",
            "  Using cached torch-1.12.1-cp310-cp310-manylinux1_x86_64.whl (776.3 MB)\n",
            "Requirement already satisfied: numpy in /usr/local/lib/python3.10/dist-packages (from torchtext==0.13.1) (1.23.5)\n",
            "Requirement already satisfied: typing-extensions in /usr/local/lib/python3.10/dist-packages (from torch==1.12.1->torchtext==0.13.1) (4.11.0)\n",
            "Requirement already satisfied: charset-normalizer<4,>=2 in /usr/local/lib/python3.10/dist-packages (from requests->torchtext==0.13.1) (3.3.2)\n",
            "Requirement already satisfied: idna<4,>=2.5 in /usr/local/lib/python3.10/dist-packages (from requests->torchtext==0.13.1) (3.7)\n",
            "Requirement already satisfied: urllib3<3,>=1.21.1 in /usr/local/lib/python3.10/dist-packages (from requests->torchtext==0.13.1) (2.0.7)\n",
            "Requirement already satisfied: certifi>=2017.4.17 in /usr/local/lib/python3.10/dist-packages (from requests->torchtext==0.13.1) (2024.2.2)\n",
            "Installing collected packages: torch, torchtext\n",
            "  Attempting uninstall: torch\n",
            "    Found existing installation: torch 2.3.0\n",
            "    Uninstalling torch-2.3.0:\n",
            "      Successfully uninstalled torch-2.3.0\n",
            "  Attempting uninstall: torchtext\n",
            "    Found existing installation: torchtext 0.18.0\n",
            "    Uninstalling torchtext-0.18.0:\n",
            "      Successfully uninstalled torchtext-0.18.0\n",
            "\u001b[31mERROR: pip's dependency resolver does not currently take into account all the packages that are installed. This behaviour is the source of the following dependency conflicts.\n",
            "torchaudio 2.2.1+cu121 requires torch==2.2.1, but you have torch 1.12.1 which is incompatible.\n",
            "torchdata 0.7.1 requires torch>=2, but you have torch 1.12.1 which is incompatible.\n",
            "torchvision 0.17.1+cu121 requires torch==2.2.1, but you have torch 1.12.1 which is incompatible.\u001b[0m\u001b[31m\n",
            "\u001b[0mSuccessfully installed torch-1.12.1 torchtext-0.13.1\n"
          ]
        },
        {
          "output_type": "display_data",
          "data": {
            "application/vnd.colab-display-data+json": {
              "pip_warning": {
                "packages": [
                  "torch"
                ]
              },
              "id": "bb54d285f0584883bc91851384ad6d2d"
            }
          },
          "metadata": {}
        }
      ]
    },
    {
      "cell_type": "code",
      "source": [
        "!pip install pytorch-lifestream"
      ],
      "metadata": {
        "colab": {
          "base_uri": "https://localhost:8080/"
        },
        "id": "Dos1BAjubKqW",
        "outputId": "b6ffcb8d-571f-439e-e65c-c25f9270b6b7"
      },
      "id": "Dos1BAjubKqW",
      "execution_count": null,
      "outputs": [
        {
          "output_type": "stream",
          "name": "stdout",
          "text": [
            "Requirement already satisfied: pytorch-lifestream in /usr/local/lib/python3.10/dist-packages (0.5.3)\n",
            "Requirement already satisfied: pytorch-lightning==1.6.* in /usr/local/lib/python3.10/dist-packages (from pytorch-lifestream) (1.6.5)\n",
            "Requirement already satisfied: torch==1.12.* in /usr/local/lib/python3.10/dist-packages (from pytorch-lifestream) (1.12.1)\n",
            "Requirement already satisfied: numpy==1.23.* in /usr/local/lib/python3.10/dist-packages (from pytorch-lifestream) (1.23.5)\n",
            "Requirement already satisfied: torchmetrics==0.9.* in /usr/local/lib/python3.10/dist-packages (from pytorch-lifestream) (0.9.3)\n",
            "Requirement already satisfied: omegaconf in /usr/local/lib/python3.10/dist-packages (from pytorch-lifestream) (2.3.0)\n",
            "Requirement already satisfied: tqdm>=4.57.0 in /usr/local/lib/python3.10/dist-packages (from pytorch-lightning==1.6.*->pytorch-lifestream) (4.66.2)\n",
            "Requirement already satisfied: PyYAML>=5.4 in /usr/local/lib/python3.10/dist-packages (from pytorch-lightning==1.6.*->pytorch-lifestream) (6.0.1)\n",
            "Requirement already satisfied: fsspec[http]!=2021.06.0,>=2021.05.0 in /usr/local/lib/python3.10/dist-packages (from pytorch-lightning==1.6.*->pytorch-lifestream) (2023.6.0)\n",
            "Requirement already satisfied: tensorboard>=2.2.0 in /usr/local/lib/python3.10/dist-packages (from pytorch-lightning==1.6.*->pytorch-lifestream) (2.15.2)\n",
            "Requirement already satisfied: pyDeprecate>=0.3.1 in /usr/local/lib/python3.10/dist-packages (from pytorch-lightning==1.6.*->pytorch-lifestream) (0.3.2)\n",
            "Requirement already satisfied: packaging>=17.0 in /usr/local/lib/python3.10/dist-packages (from pytorch-lightning==1.6.*->pytorch-lifestream) (24.0)\n",
            "Requirement already satisfied: typing-extensions>=4.0.0 in /usr/local/lib/python3.10/dist-packages (from pytorch-lightning==1.6.*->pytorch-lifestream) (4.11.0)\n",
            "Requirement already satisfied: protobuf<=3.20.1 in /usr/local/lib/python3.10/dist-packages (from pytorch-lightning==1.6.*->pytorch-lifestream) (3.20.1)\n",
            "Requirement already satisfied: antlr4-python3-runtime==4.9.* in /usr/local/lib/python3.10/dist-packages (from omegaconf->pytorch-lifestream) (4.9.3)\n",
            "Requirement already satisfied: requests in /usr/local/lib/python3.10/dist-packages (from fsspec[http]!=2021.06.0,>=2021.05.0->pytorch-lightning==1.6.*->pytorch-lifestream) (2.31.0)\n",
            "Requirement already satisfied: aiohttp!=4.0.0a0,!=4.0.0a1 in /usr/local/lib/python3.10/dist-packages (from fsspec[http]!=2021.06.0,>=2021.05.0->pytorch-lightning==1.6.*->pytorch-lifestream) (3.9.5)\n",
            "Requirement already satisfied: absl-py>=0.4 in /usr/local/lib/python3.10/dist-packages (from tensorboard>=2.2.0->pytorch-lightning==1.6.*->pytorch-lifestream) (1.4.0)\n",
            "Requirement already satisfied: grpcio>=1.48.2 in /usr/local/lib/python3.10/dist-packages (from tensorboard>=2.2.0->pytorch-lightning==1.6.*->pytorch-lifestream) (1.63.0)\n",
            "Requirement already satisfied: google-auth<3,>=1.6.3 in /usr/local/lib/python3.10/dist-packages (from tensorboard>=2.2.0->pytorch-lightning==1.6.*->pytorch-lifestream) (2.27.0)\n",
            "Requirement already satisfied: google-auth-oauthlib<2,>=0.5 in /usr/local/lib/python3.10/dist-packages (from tensorboard>=2.2.0->pytorch-lightning==1.6.*->pytorch-lifestream) (1.2.0)\n",
            "Requirement already satisfied: markdown>=2.6.8 in /usr/local/lib/python3.10/dist-packages (from tensorboard>=2.2.0->pytorch-lightning==1.6.*->pytorch-lifestream) (3.6)\n",
            "Requirement already satisfied: setuptools>=41.0.0 in /usr/local/lib/python3.10/dist-packages (from tensorboard>=2.2.0->pytorch-lightning==1.6.*->pytorch-lifestream) (67.7.2)\n",
            "Requirement already satisfied: six>1.9 in /usr/local/lib/python3.10/dist-packages (from tensorboard>=2.2.0->pytorch-lightning==1.6.*->pytorch-lifestream) (1.16.0)\n",
            "Requirement already satisfied: tensorboard-data-server<0.8.0,>=0.7.0 in /usr/local/lib/python3.10/dist-packages (from tensorboard>=2.2.0->pytorch-lightning==1.6.*->pytorch-lifestream) (0.7.2)\n",
            "Requirement already satisfied: werkzeug>=1.0.1 in /usr/local/lib/python3.10/dist-packages (from tensorboard>=2.2.0->pytorch-lightning==1.6.*->pytorch-lifestream) (3.0.2)\n",
            "Requirement already satisfied: aiosignal>=1.1.2 in /usr/local/lib/python3.10/dist-packages (from aiohttp!=4.0.0a0,!=4.0.0a1->fsspec[http]!=2021.06.0,>=2021.05.0->pytorch-lightning==1.6.*->pytorch-lifestream) (1.3.1)\n",
            "Requirement already satisfied: attrs>=17.3.0 in /usr/local/lib/python3.10/dist-packages (from aiohttp!=4.0.0a0,!=4.0.0a1->fsspec[http]!=2021.06.0,>=2021.05.0->pytorch-lightning==1.6.*->pytorch-lifestream) (23.2.0)\n",
            "Requirement already satisfied: frozenlist>=1.1.1 in /usr/local/lib/python3.10/dist-packages (from aiohttp!=4.0.0a0,!=4.0.0a1->fsspec[http]!=2021.06.0,>=2021.05.0->pytorch-lightning==1.6.*->pytorch-lifestream) (1.4.1)\n",
            "Requirement already satisfied: multidict<7.0,>=4.5 in /usr/local/lib/python3.10/dist-packages (from aiohttp!=4.0.0a0,!=4.0.0a1->fsspec[http]!=2021.06.0,>=2021.05.0->pytorch-lightning==1.6.*->pytorch-lifestream) (6.0.5)\n",
            "Requirement already satisfied: yarl<2.0,>=1.0 in /usr/local/lib/python3.10/dist-packages (from aiohttp!=4.0.0a0,!=4.0.0a1->fsspec[http]!=2021.06.0,>=2021.05.0->pytorch-lightning==1.6.*->pytorch-lifestream) (1.9.4)\n",
            "Requirement already satisfied: async-timeout<5.0,>=4.0 in /usr/local/lib/python3.10/dist-packages (from aiohttp!=4.0.0a0,!=4.0.0a1->fsspec[http]!=2021.06.0,>=2021.05.0->pytorch-lightning==1.6.*->pytorch-lifestream) (4.0.3)\n",
            "Requirement already satisfied: cachetools<6.0,>=2.0.0 in /usr/local/lib/python3.10/dist-packages (from google-auth<3,>=1.6.3->tensorboard>=2.2.0->pytorch-lightning==1.6.*->pytorch-lifestream) (5.3.3)\n",
            "Requirement already satisfied: pyasn1-modules>=0.2.1 in /usr/local/lib/python3.10/dist-packages (from google-auth<3,>=1.6.3->tensorboard>=2.2.0->pytorch-lightning==1.6.*->pytorch-lifestream) (0.4.0)\n",
            "Requirement already satisfied: rsa<5,>=3.1.4 in /usr/local/lib/python3.10/dist-packages (from google-auth<3,>=1.6.3->tensorboard>=2.2.0->pytorch-lightning==1.6.*->pytorch-lifestream) (4.9)\n",
            "Requirement already satisfied: requests-oauthlib>=0.7.0 in /usr/local/lib/python3.10/dist-packages (from google-auth-oauthlib<2,>=0.5->tensorboard>=2.2.0->pytorch-lightning==1.6.*->pytorch-lifestream) (1.3.1)\n",
            "Requirement already satisfied: charset-normalizer<4,>=2 in /usr/local/lib/python3.10/dist-packages (from requests->fsspec[http]!=2021.06.0,>=2021.05.0->pytorch-lightning==1.6.*->pytorch-lifestream) (3.3.2)\n",
            "Requirement already satisfied: idna<4,>=2.5 in /usr/local/lib/python3.10/dist-packages (from requests->fsspec[http]!=2021.06.0,>=2021.05.0->pytorch-lightning==1.6.*->pytorch-lifestream) (3.7)\n",
            "Requirement already satisfied: urllib3<3,>=1.21.1 in /usr/local/lib/python3.10/dist-packages (from requests->fsspec[http]!=2021.06.0,>=2021.05.0->pytorch-lightning==1.6.*->pytorch-lifestream) (2.0.7)\n",
            "Requirement already satisfied: certifi>=2017.4.17 in /usr/local/lib/python3.10/dist-packages (from requests->fsspec[http]!=2021.06.0,>=2021.05.0->pytorch-lightning==1.6.*->pytorch-lifestream) (2024.2.2)\n",
            "Requirement already satisfied: MarkupSafe>=2.1.1 in /usr/local/lib/python3.10/dist-packages (from werkzeug>=1.0.1->tensorboard>=2.2.0->pytorch-lightning==1.6.*->pytorch-lifestream) (2.1.5)\n",
            "Requirement already satisfied: pyasn1<0.7.0,>=0.4.6 in /usr/local/lib/python3.10/dist-packages (from pyasn1-modules>=0.2.1->google-auth<3,>=1.6.3->tensorboard>=2.2.0->pytorch-lightning==1.6.*->pytorch-lifestream) (0.6.0)\n",
            "Requirement already satisfied: oauthlib>=3.0.0 in /usr/local/lib/python3.10/dist-packages (from requests-oauthlib>=0.7.0->google-auth-oauthlib<2,>=0.5->tensorboard>=2.2.0->pytorch-lightning==1.6.*->pytorch-lifestream) (3.2.2)\n"
          ]
        }
      ]
    },
    {
      "cell_type": "markdown",
      "source": [
        "# get data"
      ],
      "metadata": {
        "id": "7KQxQQAcbLbb"
      },
      "id": "7KQxQQAcbLbb"
    },
    {
      "cell_type": "code",
      "source": [
        "from google.colab import drive\n",
        "drive.mount('/content/drive')"
      ],
      "metadata": {
        "colab": {
          "base_uri": "https://localhost:8080/"
        },
        "id": "gq1PVNCEZYEx",
        "outputId": "d95c5da6-d6e3-4c9a-d522-ee393af6e1ea"
      },
      "id": "gq1PVNCEZYEx",
      "execution_count": null,
      "outputs": [
        {
          "output_type": "stream",
          "name": "stdout",
          "text": [
            "Drive already mounted at /content/drive; to attempt to forcibly remount, call drive.mount(\"/content/drive\", force_remount=True).\n"
          ]
        }
      ]
    },
    {
      "cell_type": "code",
      "source": [
        "!cp -R /content/drive/MyDrive/ecg_data/ ecg_data/"
      ],
      "metadata": {
        "id": "rZJUZ_XxZdTr"
      },
      "id": "rZJUZ_XxZdTr",
      "execution_count": null,
      "outputs": []
    },
    {
      "cell_type": "markdown",
      "source": [
        "# train coles model"
      ],
      "metadata": {
        "id": "vuf9SlSsZZCI"
      },
      "id": "vuf9SlSsZZCI"
    },
    {
      "cell_type": "code",
      "execution_count": null,
      "id": "2b9c15b9",
      "metadata": {
        "id": "2b9c15b9"
      },
      "outputs": [],
      "source": [
        "import os\n",
        "import torch\n",
        "import torch.nn as nn\n",
        "from torch.nn import functional as F\n",
        "import torch.optim as optim\n",
        "import matplotlib.pyplot as plt\n",
        "import numpy as np\n",
        "import pandas as pd\n",
        "import lightgbm as lgb\n",
        "\n",
        "\n",
        "from tqdm.notebook import tqdm\n",
        "from torch.nn.utils.rnn import pad_sequence\n",
        "from IPython.display import clear_output\n",
        "from sklearn.metrics import accuracy_score, roc_auc_score\n",
        "from sklearn.model_selection import train_test_split, StratifiedKFold\n",
        "from ptls.frames.coles.sampling_strategies.pair_selector import PairSelector\n",
        "from ptls.frames.coles.metric import outer_pairwise_distance, BatchRecallTopK"
      ]
    },
    {
      "cell_type": "code",
      "execution_count": null,
      "id": "90439e7e",
      "metadata": {
        "id": "90439e7e"
      },
      "outputs": [],
      "source": [
        "data_path = 'ecg_data'"
      ]
    },
    {
      "cell_type": "code",
      "execution_count": null,
      "id": "323985f1",
      "metadata": {
        "id": "323985f1"
      },
      "outputs": [],
      "source": [
        "signals = np.load(os.path.join(data_path, 'signals.npy'))"
      ]
    },
    {
      "cell_type": "code",
      "execution_count": null,
      "id": "f1204e8d",
      "metadata": {
        "colab": {
          "base_uri": "https://localhost:8080/"
        },
        "id": "f1204e8d",
        "outputId": "64a37273-eba9-47b6-a205-c0715e375b44"
      },
      "outputs": [
        {
          "output_type": "execute_result",
          "data": {
            "text/plain": [
              "(21837, 1000, 12)"
            ]
          },
          "metadata": {},
          "execution_count": 10
        }
      ],
      "source": [
        "signals.shape"
      ]
    },
    {
      "cell_type": "code",
      "execution_count": null,
      "id": "85ff0707",
      "metadata": {
        "id": "85ff0707"
      },
      "outputs": [],
      "source": [
        "class ContrastiveLoss(nn.Module):\n",
        "    \"\"\"\n",
        "    Contrastive loss\n",
        "\n",
        "    \"Signature verification using a siamese time delay neural network\", NIPS 1993\n",
        "    https://papers.nips.cc/paper/769-signature-verification-using-a-siamese-time-delay-neural-network.pdf\n",
        "    \"\"\"\n",
        "\n",
        "    def __init__(self, margin, sampling_strategy):\n",
        "        super(ContrastiveLoss, self).__init__()\n",
        "        self.margin = margin\n",
        "        self.pair_selector = sampling_strategy\n",
        "\n",
        "    def forward(self, embeddings, target):\n",
        "\n",
        "        positive_pairs, negative_pairs = self.pair_selector.get_pairs(embeddings, target)\n",
        "        positive_loss = F.pairwise_distance(embeddings[positive_pairs[:, 0]], embeddings[positive_pairs[:, 1]]).pow(2)\n",
        "\n",
        "        negative_loss = F.relu(\n",
        "            self.margin - F.pairwise_distance(embeddings[negative_pairs[:, 0]], embeddings[negative_pairs[:, 1]])\n",
        "        ).pow(2)\n",
        "        loss = torch.cat([positive_loss, negative_loss], dim=0)\n",
        "\n",
        "        return loss.sum()"
      ]
    },
    {
      "cell_type": "code",
      "execution_count": null,
      "id": "2cf4d6a9",
      "metadata": {
        "id": "2cf4d6a9"
      },
      "outputs": [],
      "source": [
        "class HardNegativePairSelector(PairSelector):\n",
        "    \"\"\"\n",
        "    Generates all possible possitive pairs given labels and\n",
        "         neg_count hardest negative example for each example\n",
        "    \"\"\"\n",
        "\n",
        "    def __init__(self, neg_count=1):\n",
        "        super(HardNegativePairSelector, self).__init__()\n",
        "        self.neg_count = neg_count\n",
        "\n",
        "    def get_pairs(self, embeddings, labels):\n",
        "        # construct matrix x, such as x_ij == 0 <==> labels[i] == labels[j]\n",
        "        n = labels.size(0)\n",
        "        x = labels.expand(n, n) - labels.expand(n, n).t()\n",
        "\n",
        "        # positive pairs\n",
        "        positive_pairs = torch.triu((x == 0).int(), diagonal=1).nonzero(as_tuple=False)\n",
        "\n",
        "        # hard negative minning\n",
        "        mat_distances = outer_pairwise_distance(embeddings.detach())  # pairwise_distance\n",
        "\n",
        "        upper_bound = int((2 * n) ** 0.5) + 1\n",
        "        mat_distances = ((upper_bound - mat_distances) * (x != 0).type(\n",
        "            mat_distances.dtype))  # filter: get only negative pairs\n",
        "\n",
        "        values, indices = mat_distances.topk(k=self.neg_count, dim=0, largest=True)\n",
        "        negative_pairs = torch.stack([\n",
        "            torch.arange(0, n, dtype=indices.dtype, device=indices.device).repeat(self.neg_count),\n",
        "            torch.cat(indices.unbind(dim=0))\n",
        "        ]).t()\n",
        "\n",
        "        return positive_pairs, negative_pairs"
      ]
    },
    {
      "cell_type": "code",
      "execution_count": null,
      "id": "5251e65a",
      "metadata": {
        "id": "5251e65a"
      },
      "outputs": [],
      "source": [
        "TIME_SECTION = 10\n",
        "\n",
        "TRX_SIZE = 256\n",
        "HIDDEN_SIZE = 256\n",
        "NUM_LAYERS = 2\n",
        "\n",
        "VAL_SIZE = 0.05\n",
        "TEST_SIZE = 0.20\n",
        "BATCH_SIZE = 64\n",
        "NUM_EPOCHS = 75\n",
        "\n",
        "DEVICE = 'cuda' if torch.cuda.is_available else 'cpu'\n",
        "\n",
        "BEST_MODEL_PATH = 'best_model.pth'"
      ]
    },
    {
      "cell_type": "code",
      "execution_count": null,
      "id": "756a32de",
      "metadata": {
        "id": "756a32de"
      },
      "outputs": [],
      "source": [
        "class SampleSlices:\n",
        "    def __init__(self, split_count, cnt_min, cnt_max, short_seq_crop_rate=1.0, is_sorted=False):\n",
        "        self.split_count = split_count\n",
        "        self.cnt_min = cnt_min\n",
        "        self.cnt_max = cnt_max\n",
        "        self.short_seq_crop_rate = short_seq_crop_rate\n",
        "        self.is_sorted = is_sorted\n",
        "\n",
        "    def split(self, dates):\n",
        "        date_len = dates.shape[0]\n",
        "        date_range = np.arange(date_len)\n",
        "\n",
        "        if date_len <= self.cnt_min and self.short_seq_crop_rate >= 1.0:\n",
        "            return [date_range for _ in range(self.split_count)]\n",
        "\n",
        "        if int(date_len * self.short_seq_crop_rate) <= self.cnt_min and self.short_seq_crop_rate < 1.0:\n",
        "            cnt_min = int(date_len * self.short_seq_crop_rate)\n",
        "        else:\n",
        "            cnt_min = self.cnt_min\n",
        "\n",
        "        cnt_max = self.cnt_max if date_len > self.cnt_max else date_len\n",
        "\n",
        "        lengths = np.random.randint(cnt_min, cnt_max+1, self.split_count)\n",
        "        available_start_pos = (date_len - lengths).clip(0, None)\n",
        "        start_pos = (np.random.rand(self.split_count) * (available_start_pos + 1 - 1e-9)).astype(int)\n",
        "        if not self.is_sorted:\n",
        "            return [date_range[s:s + l] for s, l in zip(start_pos, lengths)]\n",
        "\n",
        "        ix_sort = np.argsort(start_pos)\n",
        "        return [date_range[s:s + l] for s, l in zip(start_pos[ix_sort], lengths[ix_sort])]"
      ]
    },
    {
      "cell_type": "code",
      "execution_count": null,
      "id": "453fd8db",
      "metadata": {
        "id": "453fd8db"
      },
      "outputs": [],
      "source": [
        "def get_batch_splits(batch):\n",
        "    labels = []\n",
        "    seqs = []\n",
        "\n",
        "    for seq_num, seq in enumerate(batch):\n",
        "        cur_inds = sampler.split(seq)\n",
        "        cur_seqs = [seq[ind] for ind in cur_inds]\n",
        "        cur_seqs.append(torch.zeros(sampler.cnt_max, cur_seqs[0].shape[1])) ## добавить оригинальную последовательность\n",
        "        cur_seqs = pad_sequence(cur_seqs, batch_first=True)[:sampler.split_count]\n",
        "        seqs.append(cur_seqs)\n",
        "\n",
        "        cur_labels = torch.tensor([seq_num]*sampler.split_count)\n",
        "        labels.append(cur_labels)\n",
        "    seqs = torch.vstack(seqs)\n",
        "    labels = torch.hstack(labels)\n",
        "    return seqs, labels"
      ]
    },
    {
      "cell_type": "code",
      "execution_count": null,
      "id": "e256ddbd",
      "metadata": {
        "id": "e256ddbd"
      },
      "outputs": [],
      "source": [
        "sampler = SampleSlices(\n",
        "    split_count=5,\n",
        "    cnt_min=25,\n",
        "    cnt_max=75,\n",
        ")"
      ]
    },
    {
      "cell_type": "code",
      "execution_count": null,
      "id": "f135f5f7",
      "metadata": {
        "id": "f135f5f7"
      },
      "outputs": [],
      "source": [
        "trx_encoder = nn.Sequential(\n",
        "          nn.Linear(TIME_SECTION*12, TRX_SIZE)\n",
        ")"
      ]
    },
    {
      "cell_type": "code",
      "execution_count": null,
      "id": "0a7bb04c",
      "metadata": {
        "id": "0a7bb04c"
      },
      "outputs": [],
      "source": [
        "seq_encoder = torch.nn.LSTM(\n",
        "    TRX_SIZE,\n",
        "    HIDDEN_SIZE,\n",
        "    NUM_LAYERS,\n",
        "    batch_first=True\n",
        ")"
      ]
    },
    {
      "cell_type": "code",
      "execution_count": null,
      "id": "0ff34eb1",
      "metadata": {
        "scrolled": true,
        "id": "0ff34eb1"
      },
      "outputs": [],
      "source": [
        "model = nn.Sequential(\n",
        "    trx_encoder,\n",
        "    seq_encoder\n",
        ")\n",
        "\n",
        "model = model.to(DEVICE)"
      ]
    },
    {
      "cell_type": "code",
      "execution_count": null,
      "id": "74e3297d",
      "metadata": {
        "id": "74e3297d"
      },
      "outputs": [],
      "source": [
        "criterion = ContrastiveLoss(\n",
        "    margin=0.5,\n",
        "    sampling_strategy=HardNegativePairSelector(),\n",
        ")\n",
        "\n",
        "optimizer = torch.optim.Adam(model.parameters(), lr=0.001)\n",
        "\n",
        "val_metric = BatchRecallTopK(sampler.split_count - 1)"
      ]
    },
    {
      "cell_type": "code",
      "execution_count": null,
      "id": "b2ea29fa",
      "metadata": {
        "id": "b2ea29fa"
      },
      "outputs": [],
      "source": [
        "def train_one_batch(batch, model, criterion, optimizer, train_losses, device):\n",
        "    optimizer.zero_grad()\n",
        "    seqs, labels = get_batch_splits(batch)\n",
        "    outputs, _ = model(seqs.float().to(device))\n",
        "    embeddings = torch.stack([x[-1] for x in outputs])\n",
        "\n",
        "    loss = criterion(embeddings.to(device), labels.to(device))\n",
        "    loss.backward()\n",
        "    optimizer.step()\n",
        "    train_losses.append(loss.item()/len(seqs))\n",
        "    return train_losses"
      ]
    },
    {
      "cell_type": "code",
      "execution_count": null,
      "id": "3dab3acc",
      "metadata": {
        "id": "3dab3acc"
      },
      "outputs": [],
      "source": [
        "def validate_one_batch(batch, model, criterion, val_losses, val_outputs, val_labels, device):\n",
        "    with torch.no_grad():\n",
        "        seqs, labels = get_batch_splits(batch)\n",
        "        outputs, _ = model(seqs.float().to(device))\n",
        "        embeddings = torch.stack([x[-1] for x in outputs])\n",
        "        loss = criterion(embeddings.to(device), labels.to(device))\n",
        "\n",
        "        val_outputs.append(embeddings)\n",
        "        val_labels.append(labels)\n",
        "        val_losses.append(loss.item()/len(seqs))\n",
        "\n",
        "    return val_losses, val_outputs, val_labels"
      ]
    },
    {
      "cell_type": "code",
      "execution_count": null,
      "id": "c4b956ae",
      "metadata": {
        "id": "c4b956ae"
      },
      "outputs": [],
      "source": [
        "def train_one_epoch(model, criterion, optimizer, train_dataloader, device):\n",
        "    model.train()\n",
        "    train_loss = []\n",
        "    for batch in tqdm(train_dataloader):\n",
        "        train_loss = train_one_batch(batch, model, criterion, optimizer, train_loss, device)\n",
        "\n",
        "    return sum(train_loss) / len(train_dataloader)\n",
        "\n",
        "def validate_one_epoch(model, criterion, val_metric, val_dataloader, device):\n",
        "    val_loss = []\n",
        "    val_outputs = []\n",
        "    val_labels = []\n",
        "    model.eval()\n",
        "    for batch_num, batch in enumerate(val_dataloader):\n",
        "        cur_labels = []\n",
        "        val_loss, val_outputs, cur_labels = validate_one_batch(batch, model, criterion, val_loss, val_outputs, cur_labels, device)\n",
        "        val_labels += [label + batch_num*val_dataloader.batch_size for label in cur_labels]\n",
        "\n",
        "    val_outputs = torch.vstack(val_outputs).cpu()\n",
        "    val_labels = torch.hstack(val_labels).cpu()\n",
        "    cur_metric = val_metric(val_outputs, val_labels)\n",
        "    return sum(val_loss) / len(val_dataloader), cur_metric"
      ]
    },
    {
      "cell_type": "code",
      "execution_count": null,
      "id": "9d9e7c8b",
      "metadata": {
        "id": "9d9e7c8b"
      },
      "outputs": [],
      "source": [
        "def train(\n",
        "    model,\n",
        "    criterion,\n",
        "    val_metric,\n",
        "    optimizer,\n",
        "    train_dataloader,\n",
        "    val_dataloader,\n",
        "    num_epochs,\n",
        "    device='cuda' if torch.cuda.is_available else 'cpu',\n",
        "    best_model_path='best_model.pth',\n",
        "    max_patience=5,\n",
        "    visualize_training=True,\n",
        "):\n",
        "\n",
        "    train_losses = []\n",
        "    val_losses = []\n",
        "    val_metrics = []\n",
        "\n",
        "    max_metric = -np.inf\n",
        "    cur_patience = 0\n",
        "    for epoch in range(num_epochs):\n",
        "        train_loss = train_one_epoch(model, criterion, optimizer, train_dataloader, device)\n",
        "        val_loss, cur_metric = validate_one_epoch(model, criterion, val_metric, val_dataloader, device)\n",
        "\n",
        "        train_losses.append(train_loss)\n",
        "        val_losses.append(val_loss)\n",
        "        val_metrics.append(cur_metric)\n",
        "\n",
        "        if cur_metric >= max_metric:\n",
        "            max_metric = cur_metric\n",
        "            torch.save(model.state_dict(), best_model_path)\n",
        "        else:\n",
        "            cur_patience += 1\n",
        "\n",
        "        if visualize_training:\n",
        "            visualize_training_step(epoch, num_epochs, train_loss, val_loss, cur_metric, train_losses, val_losses, val_metrics)\n",
        "\n",
        "        if cur_patience >= max_patience:\n",
        "            print(f'stop training, epoch: {epoch + 1}')\n",
        "            break"
      ]
    },
    {
      "cell_type": "code",
      "execution_count": null,
      "id": "167e3e63",
      "metadata": {
        "id": "167e3e63"
      },
      "outputs": [],
      "source": [
        "def visualize_training_step(epoch, num_epochs, train_loss, val_loss, cur_metric, train_losses, val_losses, val_metrics):\n",
        "    clear_output(wait=True)\n",
        "\n",
        "    print(f'Epoch {epoch+1}/{num_epochs}, Train Loss: {train_loss}, Val Loss: {val_loss}, Val metric: {cur_metric}')\n",
        "\n",
        "    plt.figure(figsize=(12, 6))\n",
        "    plt.subplot(1, 3, 1)\n",
        "    plt.plot(train_losses, label='Train Loss')\n",
        "    plt.xlabel('epoch')\n",
        "    plt.ylabel('Loss')\n",
        "    plt.title('Training Loss')\n",
        "    plt.legend()\n",
        "\n",
        "    plt.subplot(1, 3, 2)\n",
        "    plt.plot(val_losses, label='Val Loss', color='orange')\n",
        "    plt.xlabel('epoch')\n",
        "    plt.ylabel('Loss')\n",
        "    plt.title('Validation Loss')\n",
        "    plt.legend()\n",
        "\n",
        "    plt.subplot(1, 3, 3)\n",
        "    plt.plot(val_metrics, label='Val metric', color='red')\n",
        "    plt.xlabel('epoch')\n",
        "    plt.ylabel('metric')\n",
        "    plt.title('Validation metric')\n",
        "    plt.legend()\n",
        "\n",
        "    plt.tight_layout()\n",
        "    plt.show()"
      ]
    },
    {
      "cell_type": "code",
      "execution_count": null,
      "id": "2c6cb707",
      "metadata": {
        "id": "2c6cb707"
      },
      "outputs": [],
      "source": [
        "train_data, val_data = train_test_split(signals, test_size=0.05)"
      ]
    },
    {
      "cell_type": "code",
      "execution_count": null,
      "id": "acafb358",
      "metadata": {
        "colab": {
          "base_uri": "https://localhost:8080/"
        },
        "id": "acafb358",
        "outputId": "7168a3f8-34f8-4ca4-8e07-420b51450e93"
      },
      "outputs": [
        {
          "output_type": "stream",
          "name": "stdout",
          "text": [
            "train data len = 20745, val data len = 1092\n"
          ]
        }
      ],
      "source": [
        "print(f'train data len = {len(train_data)}, val data len = {len(val_data)}')"
      ]
    },
    {
      "cell_type": "code",
      "execution_count": null,
      "id": "e66fe7e1",
      "metadata": {
        "id": "e66fe7e1"
      },
      "outputs": [],
      "source": [
        "def collate_fn(batch):\n",
        "    batch = torch.stack([torch.from_numpy(item).float() for item in batch])\n",
        "    batch = batch.reshape((len(batch), -1, TIME_SECTION*12))\n",
        "    return batch"
      ]
    },
    {
      "cell_type": "code",
      "execution_count": null,
      "id": "71c92da5",
      "metadata": {
        "id": "71c92da5"
      },
      "outputs": [],
      "source": [
        "train_dataloader = torch.utils.data.DataLoader(train_data, batch_size=BATCH_SIZE, shuffle=True, collate_fn=collate_fn)\n",
        "val_dataloader = torch.utils.data.DataLoader(val_data, batch_size=BATCH_SIZE, shuffle=True, collate_fn=collate_fn)"
      ]
    },
    {
      "cell_type": "code",
      "execution_count": null,
      "id": "f832188e",
      "metadata": {
        "colab": {
          "base_uri": "https://localhost:8080/",
          "height": 642
        },
        "id": "f832188e",
        "outputId": "b6bb97a8-fb22-4b98-cb9b-994e5d389bdd"
      },
      "outputs": [
        {
          "output_type": "stream",
          "name": "stdout",
          "text": [
            "Epoch 44/75, Train Loss: 0.006397553144611863, Val Loss: 0.006826852567286955, Val metric: 0.9988095164299011\n"
          ]
        },
        {
          "output_type": "display_data",
          "data": {
            "text/plain": [
              "<Figure size 1200x600 with 3 Axes>"
            ],
            "image/png": "[encoded data removed]"
          },
          "metadata": {}
        },
        {
          "output_type": "stream",
          "name": "stdout",
          "text": [
            "stop training, epoch: 44\n"
          ]
        }
      ],
      "source": [
        "train(model, criterion, val_metric, optimizer, train_dataloader, val_dataloader, NUM_EPOCHS, best_model_path=BEST_MODEL_PATH, max_patience=30)"
      ]
    },
    {
      "cell_type": "code",
      "execution_count": null,
      "id": "fe5ddbbe",
      "metadata": {
        "id": "fe5ddbbe"
      },
      "outputs": [],
      "source": [
        "def inference_embeddings(model, inference_dataloader, device):\n",
        "    embeddings = []\n",
        "    for batch in tqdm(inference_dataloader):\n",
        "        outputs, _ = model(batch.float().to(device))\n",
        "        cur_embeddings = torch.stack([x[-1] for x in outputs])\n",
        "        embeddings.append(cur_embeddings)\n",
        "\n",
        "    embeddings = torch.vstack(embeddings)\n",
        "    return embeddings"
      ]
    },
    {
      "cell_type": "code",
      "execution_count": null,
      "id": "fa06180b",
      "metadata": {
        "id": "fa06180b"
      },
      "outputs": [],
      "source": [
        "inference_dataloader = torch.utils.data.DataLoader(signals, batch_size=10, shuffle=False, collate_fn=collate_fn)"
      ]
    },
    {
      "cell_type": "code",
      "source": [
        "model.load_state_dict(torch.load(BEST_MODEL_PATH))\n",
        "model = model.to(DEVICE)"
      ],
      "metadata": {
        "id": "BpQa26QU2OI9"
      },
      "id": "BpQa26QU2OI9",
      "execution_count": null,
      "outputs": []
    },
    {
      "cell_type": "code",
      "execution_count": null,
      "id": "9fcd0cc3",
      "metadata": {
        "colab": {
          "base_uri": "https://localhost:8080/"
        },
        "id": "9fcd0cc3",
        "outputId": "9c5d1fba-afe8-4569-9cc3-9708b8976b79"
      },
      "outputs": [
        {
          "output_type": "stream",
          "name": "stderr",
          "text": [
            "100%|██████████| 2184/2184 [00:09<00:00, 240.50it/s]\n"
          ]
        }
      ],
      "source": [
        "embeddings = inference_embeddings(model, inference_dataloader, DEVICE)"
      ]
    },
    {
      "cell_type": "code",
      "source": [
        "embeddings = embeddings.detach().cpu().numpy()"
      ],
      "metadata": {
        "id": "WoFohntWrPI8"
      },
      "id": "WoFohntWrPI8",
      "execution_count": null,
      "outputs": []
    },
    {
      "cell_type": "code",
      "source": [
        "np.save(os.path.join(data_path, 'embeddings.npy'), embeddings)"
      ],
      "metadata": {
        "id": "jku1TWbcrRQ3"
      },
      "id": "jku1TWbcrRQ3",
      "execution_count": null,
      "outputs": []
    },
    {
      "cell_type": "code",
      "source": [
        "def cross_validation(embeddings, target, folds):\n",
        "    auc_scores = [0 for _ in range(folds.n_splits)]\n",
        "    accuracy_scores = [0 for _ in range(folds.n_splits)]\n",
        "    for fold_, (train_index, val_index) in tqdm(enumerate(folds.split(embeddings, target))):\n",
        "\n",
        "        X_train, y_train = embeddings[train_index], target[train_index]\n",
        "        clf = lgb.LGBMClassifier(n_estimators=2500, early_stop_rounds=100)\n",
        "        clf.fit(X_train, y_train)\n",
        "\n",
        "\n",
        "        X_val, y_val = embeddings[val_index], target[val_index]\n",
        "\n",
        "\n",
        "        y_pred=clf.predict(X_val)\n",
        "        probs=clf.predict_proba(X_val)[:, 1]\n",
        "\n",
        "\n",
        "        accuracy = accuracy_score(y_pred, y_val)\n",
        "        roc_auc = roc_auc_score(y_val, probs)\n",
        "\n",
        "        auc_scores[fold_] = roc_auc\n",
        "        accuracy_scores[fold_] = accuracy\n",
        "\n",
        "\n",
        "    print(\"CV score(auc): {:<8.5f}, (std: {:<8.5f})\".format(np.mean(auc_scores), np.std(auc_scores)))\n",
        "    print(\"CV score(accuracy): {:<8.5f}, (std: {:<8.5f})\".format(np.mean(accuracy_scores), np.std(auc_scores)))\n",
        "    return (auc_scores, accuracy_scores)"
      ],
      "metadata": {
        "id": "TSJMREjdsifM"
      },
      "id": "TSJMREjdsifM",
      "execution_count": null,
      "outputs": []
    },
    {
      "cell_type": "code",
      "source": [
        "folds = StratifiedKFold(n_splits=5, shuffle=True, random_state=42)"
      ],
      "metadata": {
        "id": "e21PQL0JyQG5"
      },
      "id": "e21PQL0JyQG5",
      "execution_count": null,
      "outputs": []
    },
    {
      "cell_type": "code",
      "execution_count": null,
      "id": "e0ecea75",
      "metadata": {
        "id": "e0ecea75"
      },
      "outputs": [],
      "source": [
        "target = np.load(os.path.join(data_path, 'target.npy'))"
      ]
    },
    {
      "cell_type": "code",
      "source": [
        "scores = cross_validation(embeddings, target, folds)"
      ],
      "metadata": {
        "colab": {
          "base_uri": "https://localhost:8080/",
          "height": 1000,
          "referenced_widgets": [
            "6f2065ee6d5041e0a9f0c4862adf0593",
            "b1f0dc66f6f141ed8988e9409c20b5fc",
            "44c5dd88cf624a1db9a4904c3b418af2",
            "2cf19026773445a4979e726a7ad3565f",
            "b2aa2a6d952c4c15816b05d0cdcb0bdb",
            "0233fc86fddd4ab4917e0a54a3c488bf",
            "2de1c470e6364d7b90e0d77cd85abb32",
            "1c42cd97a98e4ff6b27c402a19bc51df",
            "4fd9728a619f46e5ae9a0974b9ad8c14",
            "ac81f061fe324ef38ef07d456ff4320b",
            "ecad75d480024e4c9737307ed8546375"
          ]
        },
        "id": "hiqgA37Szp8O",
        "outputId": "9fada492-0b06-4b26-8cba-50a7b8b35251"
      },
      "id": "hiqgA37Szp8O",
      "execution_count": null,
      "outputs": [
        {
          "output_type": "display_data",
          "data": {
            "text/plain": [
              "0it [00:00, ?it/s]"
            ],
            "application/vnd.jupyter.widget-view+json": {
              "version_major": 2,
              "version_minor": 0,
              "model_id": "6f2065ee6d5041e0a9f0c4862adf0593"
            }
          },
          "metadata": {}
        },
        {
          "output_type": "stream",
          "name": "stdout",
          "text": [
            "[LightGBM] [Warning] Unknown parameter: early_stop_rounds\n",
            "[LightGBM] [Warning] Unknown parameter: early_stop_rounds\n",
            "[LightGBM] [Info] Number of positive: 3244, number of negative: 14225\n",
            "[LightGBM] [Info] Auto-choosing col-wise multi-threading, the overhead of testing was 0.060054 seconds.\n",
            "You can set `force_col_wise=true` to remove the overhead.\n",
            "[LightGBM] [Info] Total Bins 65280\n",
            "[LightGBM] [Info] Number of data points in the train set: 17469, number of used features: 256\n",
            "[LightGBM] [Info] [binary:BoostFromScore]: pavg=0.185700 -> initscore=-1.478194\n",
            "[LightGBM] [Info] Start training from score -1.478194\n",
            "[LightGBM] [Warning] Unknown parameter: early_stop_rounds\n",
            "[LightGBM] [Warning] Unknown parameter: early_stop_rounds\n",
            "[LightGBM] [Warning] Unknown parameter: early_stop_rounds\n",
            "[LightGBM] [Warning] Unknown parameter: early_stop_rounds\n",
            "[LightGBM] [Info] Number of positive: 3244, number of negative: 14225\n",
            "[LightGBM] [Info] Auto-choosing col-wise multi-threading, the overhead of testing was 0.104524 seconds.\n",
            "You can set `force_col_wise=true` to remove the overhead.\n",
            "[LightGBM] [Info] Total Bins 65280\n",
            "[LightGBM] [Info] Number of data points in the train set: 17469, number of used features: 256\n",
            "[LightGBM] [Info] [binary:BoostFromScore]: pavg=0.185700 -> initscore=-1.478194\n",
            "[LightGBM] [Info] Start training from score -1.478194\n",
            "[LightGBM] [Warning] Unknown parameter: early_stop_rounds\n",
            "[LightGBM] [Warning] Unknown parameter: early_stop_rounds\n",
            "[LightGBM] [Warning] Unknown parameter: early_stop_rounds\n",
            "[LightGBM] [Warning] Unknown parameter: early_stop_rounds\n",
            "[LightGBM] [Info] Number of positive: 3244, number of negative: 14226\n",
            "[LightGBM] [Info] Auto-choosing col-wise multi-threading, the overhead of testing was 0.103380 seconds.\n",
            "You can set `force_col_wise=true` to remove the overhead.\n",
            "[LightGBM] [Info] Total Bins 65280\n",
            "[LightGBM] [Info] Number of data points in the train set: 17470, number of used features: 256\n",
            "[LightGBM] [Info] [binary:BoostFromScore]: pavg=0.185690 -> initscore=-1.478264\n",
            "[LightGBM] [Info] Start training from score -1.478264\n",
            "[LightGBM] [Warning] Unknown parameter: early_stop_rounds\n",
            "[LightGBM] [Warning] Unknown parameter: early_stop_rounds\n",
            "[LightGBM] [Warning] Unknown parameter: early_stop_rounds\n",
            "[LightGBM] [Warning] Unknown parameter: early_stop_rounds\n",
            "[LightGBM] [Info] Number of positive: 3244, number of negative: 14226\n",
            "[LightGBM] [Info] Auto-choosing col-wise multi-threading, the overhead of testing was 0.056593 seconds.\n",
            "You can set `force_col_wise=true` to remove the overhead.\n",
            "[LightGBM] [Info] Total Bins 65280\n",
            "[LightGBM] [Info] Number of data points in the train set: 17470, number of used features: 256\n",
            "[LightGBM] [Info] [binary:BoostFromScore]: pavg=0.185690 -> initscore=-1.478264\n",
            "[LightGBM] [Info] Start training from score -1.478264\n",
            "[LightGBM] [Warning] Unknown parameter: early_stop_rounds\n",
            "[LightGBM] [Warning] Unknown parameter: early_stop_rounds\n",
            "[LightGBM] [Warning] Unknown parameter: early_stop_rounds\n",
            "[LightGBM] [Warning] Unknown parameter: early_stop_rounds\n",
            "[LightGBM] [Info] Number of positive: 3244, number of negative: 14226\n",
            "[LightGBM] [Info] Auto-choosing col-wise multi-threading, the overhead of testing was 0.059913 seconds.\n",
            "You can set `force_col_wise=true` to remove the overhead.\n",
            "[LightGBM] [Info] Total Bins 65280\n",
            "[LightGBM] [Info] Number of data points in the train set: 17470, number of used features: 256\n",
            "[LightGBM] [Info] [binary:BoostFromScore]: pavg=0.185690 -> initscore=-1.478264\n",
            "[LightGBM] [Info] Start training from score -1.478264\n",
            "[LightGBM] [Warning] Unknown parameter: early_stop_rounds\n",
            "[LightGBM] [Warning] Unknown parameter: early_stop_rounds\n",
            "CV score(auc): 0.72004 , (std: 0.00700 )\n",
            "CV score(accuracy): 0.82827 , (std: 0.00700 )\n"
          ]
        }
      ]
    },
    {
      "cell_type": "code",
      "source": [
        "print(scores)"
      ],
      "metadata": {
        "colab": {
          "base_uri": "https://localhost:8080/"
        },
        "id": "vBV-uGae7-al",
        "outputId": "eaf0e133-80e0-4f14-d904-57b36b9fbb8a"
      },
      "id": "vBV-uGae7-al",
      "execution_count": null,
      "outputs": [
        {
          "output_type": "stream",
          "name": "stdout",
          "text": [
            "([0.7213462487091499, 0.707198289474186, 0.7270645192162324, 0.7253886729017072, 0.7192213642838418], [0.8262362637362637, 0.8282967032967034, 0.8282573849324479, 0.8280283947790245, 0.830547286466682])\n"
          ]
        }
      ]
    },
    {
      "cell_type": "code",
      "execution_count": null,
      "id": "9d4bb4d0",
      "metadata": {
        "colab": {
          "base_uri": "https://localhost:8080/"
        },
        "id": "9d4bb4d0",
        "outputId": "a153e961-1d55-4f83-f751-9e090c4fa64d"
      },
      "outputs": [
        {
          "output_type": "stream",
          "name": "stdout",
          "text": [
            "COLES model accuracy score: 0.8329\n",
            "COLES model roc auc score: 0.7322524541479913\n"
          ]
        }
      ],
      "source": [
        "accuracy=accuracy_score(y_pred, y_test)\n",
        "roc_auc = roc_auc_score(y_test, probs)\n",
        "\n",
        "print('COLES model accuracy score: {0:0.4f}'.format(accuracy_score(y_test, y_pred)))\n",
        "print(f'COLES model roc auc score: {roc_auc}')"
      ]
    },
    {
      "cell_type": "code",
      "execution_count": null,
      "id": "931731f8",
      "metadata": {
        "id": "931731f8"
      },
      "outputs": [],
      "source": []
    },
    {
      "cell_type": "code",
      "source": [
        "clf = lgb.LGBMClassifier()\n",
        "\n",
        "clf.fit(X_train, y_train)"
      ],
      "metadata": {
        "colab": {
          "base_uri": "https://localhost:8080/",
          "height": 196
        },
        "id": "s4r6MNm3wSUZ",
        "outputId": "35b14030-404e-45ae-d435-0e86add2249c"
      },
      "id": "s4r6MNm3wSUZ",
      "execution_count": null,
      "outputs": [
        {
          "output_type": "stream",
          "name": "stdout",
          "text": [
            "[LightGBM] [Info] Number of positive: 3235, number of negative: 14234\n",
            "[LightGBM] [Info] Auto-choosing col-wise multi-threading, the overhead of testing was 0.124178 seconds.\n",
            "You can set `force_col_wise=true` to remove the overhead.\n",
            "[LightGBM] [Info] Total Bins 65247\n",
            "[LightGBM] [Info] Number of data points in the train set: 17469, number of used features: 256\n",
            "[LightGBM] [Info] [binary:BoostFromScore]: pavg=0.185185 -> initscore=-1.481605\n",
            "[LightGBM] [Info] Start training from score -1.481605\n"
          ]
        },
        {
          "output_type": "execute_result",
          "data": {
            "text/plain": [
              "LGBMClassifier()"
            ],
            "text/html": [
              "<style>#sk-container-id-4 {color: black;background-color: white;}#sk-container-id-4 pre{padding: 0;}#sk-container-id-4 div.sk-toggleable {background-color: white;}#sk-container-id-4 label.sk-toggleable__label {cursor: pointer;display: block;width: 100%;margin-bottom: 0;padding: 0.3em;box-sizing: border-box;text-align: center;}#sk-container-id-4 label.sk-toggleable__label-arrow:before {content: \"▸\";float: left;margin-right: 0.25em;color: #696969;}#sk-container-id-4 label.sk-toggleable__label-arrow:hover:before {color: black;}#sk-container-id-4 div.sk-estimator:hover label.sk-toggleable__label-arrow:before {color: black;}#sk-container-id-4 div.sk-toggleable__content {max-height: 0;max-width: 0;overflow: hidden;text-align: left;background-color: #f0f8ff;}#sk-container-id-4 div.sk-toggleable__content pre {margin: 0.2em;color: black;border-radius: 0.25em;background-color: #f0f8ff;}#sk-container-id-4 input.sk-toggleable__control:checked~div.sk-toggleable__content {max-height: 200px;max-width: 100%;overflow: auto;}#sk-container-id-4 input.sk-toggleable__control:checked~label.sk-toggleable__label-arrow:before {content: \"▾\";}#sk-container-id-4 div.sk-estimator input.sk-toggleable__control:checked~label.sk-toggleable__label {background-color: #d4ebff;}#sk-container-id-4 div.sk-label input.sk-toggleable__control:checked~label.sk-toggleable__label {background-color: #d4ebff;}#sk-container-id-4 input.sk-hidden--visually {border: 0;clip: rect(1px 1px 1px 1px);clip: rect(1px, 1px, 1px, 1px);height: 1px;margin: -1px;overflow: hidden;padding: 0;position: absolute;width: 1px;}#sk-container-id-4 div.sk-estimator {font-family: monospace;background-color: #f0f8ff;border: 1px dotted black;border-radius: 0.25em;box-sizing: border-box;margin-bottom: 0.5em;}#sk-container-id-4 div.sk-estimator:hover {background-color: #d4ebff;}#sk-container-id-4 div.sk-parallel-item::after {content: \"\";width: 100%;border-bottom: 1px solid gray;flex-grow: 1;}#sk-container-id-4 div.sk-label:hover label.sk-toggleable__label {background-color: #d4ebff;}#sk-container-id-4 div.sk-serial::before {content: \"\";position: absolute;border-left: 1px solid gray;box-sizing: border-box;top: 0;bottom: 0;left: 50%;z-index: 0;}#sk-container-id-4 div.sk-serial {display: flex;flex-direction: column;align-items: center;background-color: white;padding-right: 0.2em;padding-left: 0.2em;position: relative;}#sk-container-id-4 div.sk-item {position: relative;z-index: 1;}#sk-container-id-4 div.sk-parallel {display: flex;align-items: stretch;justify-content: center;background-color: white;position: relative;}#sk-container-id-4 div.sk-item::before, #sk-container-id-4 div.sk-parallel-item::before {content: \"\";position: absolute;border-left: 1px solid gray;box-sizing: border-box;top: 0;bottom: 0;left: 50%;z-index: -1;}#sk-container-id-4 div.sk-parallel-item {display: flex;flex-direction: column;z-index: 1;position: relative;background-color: white;}#sk-container-id-4 div.sk-parallel-item:first-child::after {align-self: flex-end;width: 50%;}#sk-container-id-4 div.sk-parallel-item:last-child::after {align-self: flex-start;width: 50%;}#sk-container-id-4 div.sk-parallel-item:only-child::after {width: 0;}#sk-container-id-4 div.sk-dashed-wrapped {border: 1px dashed gray;margin: 0 0.4em 0.5em 0.4em;box-sizing: border-box;padding-bottom: 0.4em;background-color: white;}#sk-container-id-4 div.sk-label label {font-family: monospace;font-weight: bold;display: inline-block;line-height: 1.2em;}#sk-container-id-4 div.sk-label-container {text-align: center;}#sk-container-id-4 div.sk-container {/* jupyter's `normalize.less` sets `[hidden] { display: none; }` but bootstrap.min.css set `[hidden] { display: none !important; }` so we also need the `!important` here to be able to override the default hidden behavior on the sphinx rendered scikit-learn.org. See: https://github.com/scikit-learn/scikit-learn/issues/21755 */display: inline-block !important;position: relative;}#sk-container-id-4 div.sk-text-repr-fallback {display: none;}</style><div id=\"sk-container-id-4\" class=\"sk-top-container\"><div class=\"sk-text-repr-fallback\"><pre>LGBMClassifier()</pre><b>In a Jupyter environment, please rerun this cell to show the HTML representation or trust the notebook. <br />On GitHub, the HTML representation is unable to render, please try loading this page with nbviewer.org.</b></div><div class=\"sk-container\" hidden><div class=\"sk-item\"><div class=\"sk-estimator sk-toggleable\"><input class=\"sk-toggleable__control sk-hidden--visually\" id=\"sk-estimator-id-4\" type=\"checkbox\" checked><label for=\"sk-estimator-id-4\" class=\"sk-toggleable__label sk-toggleable__label-arrow\">LGBMClassifier</label><div class=\"sk-toggleable__content\"><pre>LGBMClassifier()</pre></div></div></div></div></div>"
            ]
          },
          "metadata": {},
          "execution_count": 63
        }
      ]
    },
    {
      "cell_type": "code",
      "source": [
        "y_pred=clf.predict(X_test)\n",
        "probs=clf.predict_proba(X_test)[:, 1]"
      ],
      "metadata": {
        "id": "EbAD-ruZwTJh"
      },
      "id": "EbAD-ruZwTJh",
      "execution_count": null,
      "outputs": []
    },
    {
      "cell_type": "code",
      "source": [
        "accuracy=accuracy_score(y_pred, y_test)\n",
        "roc_auc = roc_auc_score(y_test, probs)\n",
        "\n",
        "print('COLES model accuracy score: {0:0.4f}'.format(accuracy_score(y_test, y_pred)))\n",
        "print(f'COLES model roc auc score: {roc_auc}')"
      ],
      "metadata": {
        "colab": {
          "base_uri": "https://localhost:8080/"
        },
        "id": "8ourHs5VwUKp",
        "outputId": "a312e58a-8f3a-482b-ed97-12324d8d99c8"
      },
      "id": "8ourHs5VwUKp",
      "execution_count": null,
      "outputs": [
        {
          "output_type": "stream",
          "name": "stdout",
          "text": [
            "COLES model accuracy score: 0.8246\n",
            "COLES model roc auc score: 0.742102730497429\n"
          ]
        }
      ]
    },
    {
      "cell_type": "code",
      "source": [],
      "metadata": {
        "id": "Re7xY6UdwWyR"
      },
      "id": "Re7xY6UdwWyR",
      "execution_count": null,
      "outputs": []
    }
  ],
  "metadata": {
    "kernelspec": {
      "display_name": "work_kernel",
      "language": "python",
      "name": "workflow"
    },
    "language_info": {
      "codemirror_mode": {
        "name": "ipython",
        "version": 3
      },
      "file_extension": ".py",
      "mimetype": "text/x-python",
      "name": "python",
      "nbconvert_exporter": "python",
      "pygments_lexer": "ipython3",
      "version": "3.8.5"
    },
    "colab": {
      "provenance": [],
      "gpuType": "T4"
    },
    "accelerator": "GPU",
    "widgets": {
      "application/vnd.jupyter.widget-state+json": {
        "6f2065ee6d5041e0a9f0c4862adf0593": {
          "model_module": "@jupyter-widgets/controls",
          "model_name": "HBoxModel",
          "model_module_version": "1.5.0",
          "state": {
            "_dom_classes": [],
            "_model_module": "@jupyter-widgets/controls",
            "_model_module_version": "1.5.0",
            "_model_name": "HBoxModel",
            "_view_count": null,
            "_view_module": "@jupyter-widgets/controls",
            "_view_module_version": "1.5.0",
            "_view_name": "HBoxView",
            "box_style": "",
            "children": [
              "IPY_MODEL_b1f0dc66f6f141ed8988e9409c20b5fc",
              "IPY_MODEL_44c5dd88cf624a1db9a4904c3b418af2",
              "IPY_MODEL_2cf19026773445a4979e726a7ad3565f"
            ],
            "layout": "IPY_MODEL_b2aa2a6d952c4c15816b05d0cdcb0bdb"
          }
        },
        "b1f0dc66f6f141ed8988e9409c20b5fc": {
          "model_module": "@jupyter-widgets/controls",
          "model_name": "HTMLModel",
          "model_module_version": "1.5.0",
          "state": {
            "_dom_classes": [],
            "_model_module": "@jupyter-widgets/controls",
            "_model_module_version": "1.5.0",
            "_model_name": "HTMLModel",
            "_view_count": null,
            "_view_module": "@jupyter-widgets/controls",
            "_view_module_version": "1.5.0",
            "_view_name": "HTMLView",
            "description": "",
            "description_tooltip": null,
            "layout": "IPY_MODEL_0233fc86fddd4ab4917e0a54a3c488bf",
            "placeholder": "​",
            "style": "IPY_MODEL_2de1c470e6364d7b90e0d77cd85abb32",
            "value": ""
          }
        },
        "44c5dd88cf624a1db9a4904c3b418af2": {
          "model_module": "@jupyter-widgets/controls",
          "model_name": "FloatProgressModel",
          "model_module_version": "1.5.0",
          "state": {
            "_dom_classes": [],
            "_model_module": "@jupyter-widgets/controls",
            "_model_module_version": "1.5.0",
            "_model_name": "FloatProgressModel",
            "_view_count": null,
            "_view_module": "@jupyter-widgets/controls",
            "_view_module_version": "1.5.0",
            "_view_name": "ProgressView",
            "bar_style": "success",
            "description": "",
            "description_tooltip": null,
            "layout": "IPY_MODEL_1c42cd97a98e4ff6b27c402a19bc51df",
            "max": 1,
            "min": 0,
            "orientation": "horizontal",
            "style": "IPY_MODEL_4fd9728a619f46e5ae9a0974b9ad8c14",
            "value": 1
          }
        },
        "2cf19026773445a4979e726a7ad3565f": {
          "model_module": "@jupyter-widgets/controls",
          "model_name": "HTMLModel",
          "model_module_version": "1.5.0",
          "state": {
            "_dom_classes": [],
            "_model_module": "@jupyter-widgets/controls",
            "_model_module_version": "1.5.0",
            "_model_name": "HTMLModel",
            "_view_count": null,
            "_view_module": "@jupyter-widgets/controls",
            "_view_module_version": "1.5.0",
            "_view_name": "HTMLView",
            "description": "",
            "description_tooltip": null,
            "layout": "IPY_MODEL_ac81f061fe324ef38ef07d456ff4320b",
            "placeholder": "​",
            "style": "IPY_MODEL_ecad75d480024e4c9737307ed8546375",
            "value": " 5/? [10:26&lt;00:00, 124.31s/it]"
          }
        },
        "b2aa2a6d952c4c15816b05d0cdcb0bdb": {
          "model_module": "@jupyter-widgets/base",
          "model_name": "LayoutModel",
          "model_module_version": "1.2.0",
          "state": {
            "_model_module": "@jupyter-widgets/base",
            "_model_module_version": "1.2.0",
            "_model_name": "LayoutModel",
            "_view_count": null,
            "_view_module": "@jupyter-widgets/base",
            "_view_module_version": "1.2.0",
            "_view_name": "LayoutView",
            "align_content": null,
            "align_items": null,
            "align_self": null,
            "border": null,
            "bottom": null,
            "display": null,
            "flex": null,
            "flex_flow": null,
            "grid_area": null,
            "grid_auto_columns": null,
            "grid_auto_flow": null,
            "grid_auto_rows": null,
            "grid_column": null,
            "grid_gap": null,
            "grid_row": null,
            "grid_template_areas": null,
            "grid_template_columns": null,
            "grid_template_rows": null,
            "height": null,
            "justify_content": null,
            "justify_items": null,
            "left": null,
            "margin": null,
            "max_height": null,
            "max_width": null,
            "min_height": null,
            "min_width": null,
            "object_fit": null,
            "object_position": null,
            "order": null,
            "overflow": null,
            "overflow_x": null,
            "overflow_y": null,
            "padding": null,
            "right": null,
            "top": null,
            "visibility": null,
            "width": null
          }
        },
        "0233fc86fddd4ab4917e0a54a3c488bf": {
          "model_module": "@jupyter-widgets/base",
          "model_name": "LayoutModel",
          "model_module_version": "1.2.0",
          "state": {
            "_model_module": "@jupyter-widgets/base",
            "_model_module_version": "1.2.0",
            "_model_name": "LayoutModel",
            "_view_count": null,
            "_view_module": "@jupyter-widgets/base",
            "_view_module_version": "1.2.0",
            "_view_name": "LayoutView",
            "align_content": null,
            "align_items": null,
            "align_self": null,
            "border": null,
            "bottom": null,
            "display": null,
            "flex": null,
            "flex_flow": null,
            "grid_area": null,
            "grid_auto_columns": null,
            "grid_auto_flow": null,
            "grid_auto_rows": null,
            "grid_column": null,
            "grid_gap": null,
            "grid_row": null,
            "grid_template_areas": null,
            "grid_template_columns": null,
            "grid_template_rows": null,
            "height": null,
            "justify_content": null,
            "justify_items": null,
            "left": null,
            "margin": null,
            "max_height": null,
            "max_width": null,
            "min_height": null,
            "min_width": null,
            "object_fit": null,
            "object_position": null,
            "order": null,
            "overflow": null,
            "overflow_x": null,
            "overflow_y": null,
            "padding": null,
            "right": null,
            "top": null,
            "visibility": null,
            "width": null
          }
        },
        "2de1c470e6364d7b90e0d77cd85abb32": {
          "model_module": "@jupyter-widgets/controls",
          "model_name": "DescriptionStyleModel",
          "model_module_version": "1.5.0",
          "state": {
            "_model_module": "@jupyter-widgets/controls",
            "_model_module_version": "1.5.0",
            "_model_name": "DescriptionStyleModel",
            "_view_count": null,
            "_view_module": "@jupyter-widgets/base",
            "_view_module_version": "1.2.0",
            "_view_name": "StyleView",
            "description_width": ""
          }
        },
        "1c42cd97a98e4ff6b27c402a19bc51df": {
          "model_module": "@jupyter-widgets/base",
          "model_name": "LayoutModel",
          "model_module_version": "1.2.0",
          "state": {
            "_model_module": "@jupyter-widgets/base",
            "_model_module_version": "1.2.0",
            "_model_name": "LayoutModel",
            "_view_count": null,
            "_view_module": "@jupyter-widgets/base",
            "_view_module_version": "1.2.0",
            "_view_name": "LayoutView",
            "align_content": null,
            "align_items": null,
            "align_self": null,
            "border": null,
            "bottom": null,
            "display": null,
            "flex": null,
            "flex_flow": null,
            "grid_area": null,
            "grid_auto_columns": null,
            "grid_auto_flow": null,
            "grid_auto_rows": null,
            "grid_column": null,
            "grid_gap": null,
            "grid_row": null,
            "grid_template_areas": null,
            "grid_template_columns": null,
            "grid_template_rows": null,
            "height": null,
            "justify_content": null,
            "justify_items": null,
            "left": null,
            "margin": null,
            "max_height": null,
            "max_width": null,
            "min_height": null,
            "min_width": null,
            "object_fit": null,
            "object_position": null,
            "order": null,
            "overflow": null,
            "overflow_x": null,
            "overflow_y": null,
            "padding": null,
            "right": null,
            "top": null,
            "visibility": null,
            "width": "20px"
          }
        },
        "4fd9728a619f46e5ae9a0974b9ad8c14": {
          "model_module": "@jupyter-widgets/controls",
          "model_name": "ProgressStyleModel",
          "model_module_version": "1.5.0",
          "state": {
            "_model_module": "@jupyter-widgets/controls",
            "_model_module_version": "1.5.0",
            "_model_name": "ProgressStyleModel",
            "_view_count": null,
            "_view_module": "@jupyter-widgets/base",
            "_view_module_version": "1.2.0",
            "_view_name": "StyleView",
            "bar_color": null,
            "description_width": ""
          }
        },
        "ac81f061fe324ef38ef07d456ff4320b": {
          "model_module": "@jupyter-widgets/base",
          "model_name": "LayoutModel",
          "model_module_version": "1.2.0",
          "state": {
            "_model_module": "@jupyter-widgets/base",
            "_model_module_version": "1.2.0",
            "_model_name": "LayoutModel",
            "_view_count": null,
            "_view_module": "@jupyter-widgets/base",
            "_view_module_version": "1.2.0",
            "_view_name": "LayoutView",
            "align_content": null,
            "align_items": null,
            "align_self": null,
            "border": null,
            "bottom": null,
            "display": null,
            "flex": null,
            "flex_flow": null,
            "grid_area": null,
            "grid_auto_columns": null,
            "grid_auto_flow": null,
            "grid_auto_rows": null,
            "grid_column": null,
            "grid_gap": null,
            "grid_row": null,
            "grid_template_areas": null,
            "grid_template_columns": null,
            "grid_template_rows": null,
            "height": null,
            "justify_content": null,
            "justify_items": null,
            "left": null,
            "margin": null,
            "max_height": null,
            "max_width": null,
            "min_height": null,
            "min_width": null,
            "object_fit": null,
            "object_position": null,
            "order": null,
            "overflow": null,
            "overflow_x": null,
            "overflow_y": null,
            "padding": null,
            "right": null,
            "top": null,
            "visibility": null,
            "width": null
          }
        },
        "ecad75d480024e4c9737307ed8546375": {
          "model_module": "@jupyter-widgets/controls",
          "model_name": "DescriptionStyleModel",
          "model_module_version": "1.5.0",
          "state": {
            "_model_module": "@jupyter-widgets/controls",
            "_model_module_version": "1.5.0",
            "_model_name": "DescriptionStyleModel",
            "_view_count": null,
            "_view_module": "@jupyter-widgets/base",
            "_view_module_version": "1.2.0",
            "_view_name": "StyleView",
            "description_width": ""
          }
        }
      }
    }
  },
  "nbformat": 4,
  "nbformat_minor": 5
}